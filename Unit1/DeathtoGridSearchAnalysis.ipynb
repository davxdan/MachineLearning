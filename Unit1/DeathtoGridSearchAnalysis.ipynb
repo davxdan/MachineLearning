{
 "cells": [
  {
   "cell_type": "markdown",
   "metadata": {},
   "source": [
    "Email homework to angela.y.wuu@gmail.com\n",
    "\n",
    "Final project \n",
    "- ideas on google doc\n",
    "- 15-20 min video, have opportunity to refilm \n",
    "- 1pg written \"cheat sheet\"\n",
    "- job interview-like\n",
    "- earlier is better! \n",
    "\n",
    "Rough rubric: \n",
    "Technical Mastery,\n",
    "Presentation ability,\n",
    "Demonstrated potential for growth, \n",
    "Demonstrated potential as a teammate, \n",
    "Demonstrated ability to work solo,\n"
   ]
  },
  {
   "cell_type": "markdown",
   "metadata": {},
   "source": [
    "__Hierarchical clustering__ groups data over a variety of scales by creating a cluster tree or dendrogram. The tree is not a single set of clusters but rather a multilevel hierarchy, where clusters at one level are joined as clusters at the next level. This allows you to decide the level or scale of clustering that is most appropriate for your application."
   ]
  },
  {
   "cell_type": "markdown",
   "metadata": {},
   "source": [
    "__K-means clustering__ is a partitioning method. The data is partitioned into k mutually exclusive clusters and returns the index of the cluster to which it has assigned each observation. Unlike hierarchical clustering, k-means clustering operates on actual observations (rather than the larger set of dissimilarity measures) and creates a single level of clusters. The distinctions mean that k-means clustering is often more suitable than hierarchical clustering for large amounts of data. k-means treats each observation in your data as an object having a location in space. It finds a partition in which objects within each cluster are as close to each other as possible and as far from objects in other clusters as possible"
   ]
  },
  {
   "cell_type": "markdown",
   "metadata": {},
   "source": [
    "__Gaussian mixture models__ assign each observation to a cluster by maximizing the posterior probability that the data point belongs to its assigned cluster."
   ]
  },
  {
   "cell_type": "markdown",
   "metadata": {},
   "source": [
    "In machine learning, __lazy learning__ is a learning method in which generalization beyond the training data is delayed until a query is made to the system, as opposed to in eager learning, where the system tries to generalize the training data before receiving queries.\n",
    "\n",
    "The main advantage gained in employing a lazy learning method, such as case-based reasoning, is that the target function will be approximated locally, __such as in the k-nearest neighbor__ algorithm. Because the target function is approximated locally for each query to the system, lazy learning systems can simultaneously solve multiple problems and deal successfully with changes in the problem domain.\n",
    "\n",
    "The disadvantages with lazy learning include the large space requirement to store the entire training dataset. Particularly noisy training data increases the case base unnecessarily, because no abstraction is made during the training phase. Another disadvantage is that lazy learning methods are usually slower to evaluate, though this is coupled with a faster training phase.\n",
    "\n",
    "__Lazy classifiers are most useful for large datasets with few attributes__."
   ]
  },
  {
   "cell_type": "markdown",
   "metadata": {},
   "source": [
    "__Fuzzy c-means (FCM)__ is a data-clustering technique wherein each data point belongs to a cluster to some degree that is specified by a membership grade. FCM allows one piece of data to belong to two or more clusters."
   ]
  },
  {
   "cell_type": "markdown",
   "metadata": {},
   "source": [
    "__Self Organizing Maps__ Dimensional reduction when we have non-normal distributions. At each stage of representation, or processing, each piece of incoming information is kept in its proper context/neighborhood."
   ]
  },
  {
   "cell_type": "markdown",
   "metadata": {},
   "source": [
    "Topology is a mathematical discipline that studies shape. __Topological data analysis (TDA)__ refers to the adaptation of this discipline to analyzing highly complex data. It draws on the philosophy that all data have an underlying shape and that shape has meaning.\n",
    "\n",
    "The analysis creates a summary or compressed representation of all of the data points to help rapidly uncover critical patterns and relationships in data. By identifying the geometric relationships that exist between data points, TDA offers an extremely simple way of interrogating data to understand the underlying properties that characterize the segments and subsegments that lie within data."
   ]
  },
  {
   "cell_type": "markdown",
   "metadata": {},
   "source": [
    "From Wikipedia, the free encyclopedia  \n",
    "\n",
    "In machine learning, __hyperparameter__ optimization or tuning is the problem of choosing a set of optimal hyperparameters for a learning algorithm.\n",
    "\n",
    "The same kind of machine learning model can require different constraints, weights or learning rates to generalize different data patterns. These measures are called hyperparameters, and have to be tuned so that the model can optimally solve the machine learning problem. Hyperparameter optimization finds a tuple of hyperparameters that yields an optimal model which minimizes a predefined loss function on given independent data.[1] The objective function takes a tuple of hyperparameters and returns the associated loss.[1] Cross-validation is often used to estimate this generalization performance.[2]"
   ]
  },
  {
   "cell_type": "markdown",
   "metadata": {},
   "source": [
    "__Import Packages__"
   ]
  },
  {
   "cell_type": "code",
   "execution_count": null,
   "metadata": {},
   "outputs": [],
   "source": []
  },
  {
   "cell_type": "markdown",
   "metadata": {},
   "source": [
    "__Create Data__"
   ]
  },
  {
   "cell_type": "code",
   "execution_count": null,
   "metadata": {
    "scrolled": true
   },
   "outputs": [],
   "source": []
  },
  {
   "cell_type": "markdown",
   "metadata": {},
   "source": [
    "1. Write a function to take a list or dictionary of clfs and hypers ie use logistic regression, each with 3 different sets of hyper parameters for each.\n",
    "2. Expand to include larger number of classifiers and hyperparmeter settings.\n",
    "3. Find some simple data.\n",
    "4. Generate matplotlib plots that will assist in identifying the optimal clf and parameters settings."
   ]
  },
  {
   "cell_type": "markdown",
   "metadata": {},
   "source": [
    "__EXAMPLES__ https://stackoverflow.com/questions/41901344/iterating-through-functions-and-outputting-results-in-organized-pandas-dataframe"
   ]
  },
  {
   "cell_type": "markdown",
   "metadata": {},
   "source": [
    "__Also be sure to look at__ https://scikit-learn.org/stable/modules/grid_search.html"
   ]
  },
  {
   "cell_type": "markdown",
   "metadata": {},
   "source": [
    "__Create a list of classifier algorithms and a dictionary of thier parameters__"
   ]
  },
  {
   "cell_type": "code",
   "execution_count": 1,
   "metadata": {
    "scrolled": false
   },
   "outputs": [],
   "source": [
    "# # This works\n",
    "# # copied and adapted from Christopher Havenstein office hours presentations\n",
    "# import numpy as np\n",
    "# from sklearn.metrics import accuracy_score\n",
    "# from sklearn.ensemble import RandomForestClassifier\n",
    "# from sklearn.svm import SVC\n",
    "# from sklearn.linear_model import LogisticRegression\n",
    "# from sklearn.model_selection import KFold\n",
    "# import matplotlib.pyplot as plt\n",
    "# import warnings\n",
    "\n",
    "# iris = datasets.load_iris()\n",
    "# x = iris.data[:, :2]\n",
    "# y = iris.target\n",
    "# n_folds = 5\n",
    "# data = (x, y, n_folds)\n",
    "# n_folds = 5\n",
    "# dataInputVariable = (x,y,n_folds)\n",
    "# kf = KFold(n_splits=n_folds)\n",
    "\n",
    "# classifiersList = [RandomForestClassifier, LogisticRegression,SVC]\n",
    "# classifierParametersDictionary = {'RandomForestClassifier': {\"min_samples_split\": [2,3,4],\"n_estimators\":[10,100]},\n",
    "#                                   'LogisticRegression': {\"tol\": [0.001,0.01,0.1],\"solver\":['lbfgs'],\"multi_class\":['auto']},\n",
    "#                                  'SVC': {\"C\": [1.1, 0.5],\"gamma\":['scale']}}\n",
    "\n",
    "# def run(classifierInputVariable, dataInputVariable, parameterInputVariable={}):\n",
    "#     kf = KFold(n_splits=n_folds)\n",
    "#     ret = {}\n",
    "#     for a, (train_index, test_index) in enumerate(kf.split(x, y)):\n",
    "#         aClassifier = classifierInputVariable(**parameterInputVariable)\n",
    "#         aClassifier.fit(x[train_index], y[train_index])\n",
    "#         pred = aClassifier.predict(x[test_index])\n",
    "#         ret[a]= {'Classifier Function Used': aClassifier,\n",
    "#                    'accuracy': accuracy_score(y[test_index], pred)}\n",
    "#         return ret\n",
    "\n",
    "# results={}\n",
    "\n",
    "# clfsAccuracyDict = {}\n",
    "\n",
    "# for classifier in classifiersList:\n",
    "#     for outerKey, outerValue in classifierParametersDictionary.items():\n",
    "#         classifierString = str(classifier)\n",
    "#         if outerKey in classifierString:\n",
    "#             innerKey,innerValue = zip(*outerValue.items())\n",
    "#             for values in product(*innerValue):\n",
    "#                 parameterInputVariable = dict(zip(innerKey, values))\n",
    "#                 results = run(classifier, dataInputVariable, parameterInputVariable)\n",
    "#                 for key in results:\n",
    "#                     k1 = results[key]['Classifier Function Used']\n",
    "#                     v1 = results[key]['accuracy']\n",
    "#                     k1Test = str(k1)\n",
    "#                     k1Test = k1Test.replace('            ',' ')\n",
    "#                     k1Test = k1Test.replace('          ',' ')\n",
    "#                     if k1Test in clfsAccuracyDict:\n",
    "#                         clfsAccuracyDict[k1Test].append(v1)\n",
    "#                     else:\n",
    "#                         clfsAccuracyDict[k1Test] = [v1] #create a new key (k1Test) in clfsAccuracyDict with a new value, (v1)\n",
    "#                         print(clfsAccuracyDict)   \n",
    "                        \n",
    "# n = max(len(v1) for k1, v1 in clfsAccuracyDict.items())\n",
    "\n",
    "# #create the histograms\n",
    "# for k1, v1 in clfsAccuracyDict.items():\n",
    "#     # for each key in our clfsAccuracyDict, create a new histogram with a given key's values \n",
    "#     fig = plt.figure(figsize =(10,10)) # This dictates the size of our histograms\n",
    "#     ax  = fig.add_subplot(1, 1, 1) # As the ax subplot numbers increase here, the plot gets smaller\n",
    "#     plt.hist(v1, facecolor='green', alpha=0.75) # create the histogram with the values\n",
    "#     ax.set_title(k1, fontsize=30) # increase title fontsize for readability\n",
    "#     ax.set_xlabel('Classifer Accuracy (By K-Fold)', fontsize=25) # increase x-axis label fontsize for readability\n",
    "#     ax.set_ylabel('Frequency', fontsize=25) # increase y-axis label fontsize for readability\n",
    "#     ax.xaxis.set_ticks(np.arange(0, 1.1, 0.1)) # The accuracy can only be from 0 to 1 (e.g. 0 or 100%)\n",
    "#     ax.yaxis.set_ticks(np.arange(0, n+1, 1)) # n represents the number of k-folds\n",
    "#     ax.xaxis.set_tick_params(labelsize=20) # increase x-axis tick fontsize for readability\n",
    "#     ax.yaxis.set_tick_params(labelsize=20) # increase y-axis tick fontsize for readability\n",
    "#     ax.grid(True) # you can turn this on for a grid, but I think it looks messy here.\n",
    "\n",
    "# plt.show()"
   ]
  },
  {
   "cell_type": "code",
   "execution_count": 1,
   "metadata": {},
   "outputs": [
    {
     "name": "stdout",
     "output_type": "stream",
     "text": [
      "{\"RandomForestClassifier(bootstrap=True, class_weight=None, criterion='gini',\\n max_depth=None, max_features='auto', max_leaf_nodes=None,\\n min_impurity_decrease=0.0, min_impurity_split=None,\\n min_samples_leaf=1, min_samples_split=2,\\n min_weight_fraction_leaf=0.0, n_estimators=100, n_jobs=4,\\n oob_score=False, random_state=None, verbose=0,\\n warm_start=False)\": [1.0]}\n",
      "{\"RandomForestClassifier(bootstrap=True, class_weight=None, criterion='gini',\\n max_depth=None, max_features='auto', max_leaf_nodes=None,\\n min_impurity_decrease=0.0, min_impurity_split=None,\\n min_samples_leaf=1, min_samples_split=2,\\n min_weight_fraction_leaf=0.0, n_estimators=100, n_jobs=4,\\n oob_score=False, random_state=None, verbose=0,\\n warm_start=False)\": [1.0, 1.0, 0.8666666666666667, 0.9333333333333333, 0.7333333333333333], \"RandomForestClassifier(bootstrap=True, class_weight=None, criterion='gini',\\n max_depth=None, max_features='auto', max_leaf_nodes=None,\\n min_impurity_decrease=0.0, min_impurity_split=None,\\n min_samples_leaf=1, min_samples_split=3,\\n min_weight_fraction_leaf=0.0, n_estimators=100, n_jobs=4,\\n oob_score=False, random_state=None, verbose=0,\\n warm_start=False)\": [1.0]}\n",
      "{\"RandomForestClassifier(bootstrap=True, class_weight=None, criterion='gini',\\n max_depth=None, max_features='auto', max_leaf_nodes=None,\\n min_impurity_decrease=0.0, min_impurity_split=None,\\n min_samples_leaf=1, min_samples_split=2,\\n min_weight_fraction_leaf=0.0, n_estimators=100, n_jobs=4,\\n oob_score=False, random_state=None, verbose=0,\\n warm_start=False)\": [1.0, 1.0, 0.8666666666666667, 0.9333333333333333, 0.7333333333333333], \"RandomForestClassifier(bootstrap=True, class_weight=None, criterion='gini',\\n max_depth=None, max_features='auto', max_leaf_nodes=None,\\n min_impurity_decrease=0.0, min_impurity_split=None,\\n min_samples_leaf=1, min_samples_split=3,\\n min_weight_fraction_leaf=0.0, n_estimators=100, n_jobs=4,\\n oob_score=False, random_state=None, verbose=0,\\n warm_start=False)\": [1.0, 1.0, 0.8666666666666667, 0.9333333333333333, 0.7333333333333333], \"RandomForestClassifier(bootstrap=True, class_weight=None, criterion='gini',\\n max_depth=None, max_features='auto', max_leaf_nodes=None,\\n min_impurity_decrease=0.0, min_impurity_split=None,\\n min_samples_leaf=1, min_samples_split=4,\\n min_weight_fraction_leaf=0.0, n_estimators=100, n_jobs=4,\\n oob_score=False, random_state=None, verbose=0,\\n warm_start=False)\": [1.0]}\n",
      "{\"RandomForestClassifier(bootstrap=True, class_weight=None, criterion='gini',\\n max_depth=None, max_features='auto', max_leaf_nodes=None,\\n min_impurity_decrease=0.0, min_impurity_split=None,\\n min_samples_leaf=1, min_samples_split=2,\\n min_weight_fraction_leaf=0.0, n_estimators=100, n_jobs=4,\\n oob_score=False, random_state=None, verbose=0,\\n warm_start=False)\": [1.0, 1.0, 0.8666666666666667, 0.9333333333333333, 0.7333333333333333], \"RandomForestClassifier(bootstrap=True, class_weight=None, criterion='gini',\\n max_depth=None, max_features='auto', max_leaf_nodes=None,\\n min_impurity_decrease=0.0, min_impurity_split=None,\\n min_samples_leaf=1, min_samples_split=3,\\n min_weight_fraction_leaf=0.0, n_estimators=100, n_jobs=4,\\n oob_score=False, random_state=None, verbose=0,\\n warm_start=False)\": [1.0, 1.0, 0.8666666666666667, 0.9333333333333333, 0.7333333333333333], \"RandomForestClassifier(bootstrap=True, class_weight=None, criterion='gini',\\n max_depth=None, max_features='auto', max_leaf_nodes=None,\\n min_impurity_decrease=0.0, min_impurity_split=None,\\n min_samples_leaf=1, min_samples_split=4,\\n min_weight_fraction_leaf=0.0, n_estimators=100, n_jobs=4,\\n oob_score=False, random_state=None, verbose=0,\\n warm_start=False)\": [1.0, 1.0, 0.8666666666666667, 0.9333333333333333, 0.7666666666666667], \"LogisticRegression(C=1.0, class_weight=None, dual=False, fit_intercept=True,\\n intercept_scaling=1, max_iter=100, multi_class='auto',\\n n_jobs=None, penalty='l2', random_state=None, solver='lbfgs',\\n tol=0.001, verbose=0, warm_start=False)\": [1.0]}\n",
      "{\"RandomForestClassifier(bootstrap=True, class_weight=None, criterion='gini',\\n max_depth=None, max_features='auto', max_leaf_nodes=None,\\n min_impurity_decrease=0.0, min_impurity_split=None,\\n min_samples_leaf=1, min_samples_split=2,\\n min_weight_fraction_leaf=0.0, n_estimators=100, n_jobs=4,\\n oob_score=False, random_state=None, verbose=0,\\n warm_start=False)\": [1.0, 1.0, 0.8666666666666667, 0.9333333333333333, 0.7333333333333333], \"RandomForestClassifier(bootstrap=True, class_weight=None, criterion='gini',\\n max_depth=None, max_features='auto', max_leaf_nodes=None,\\n min_impurity_decrease=0.0, min_impurity_split=None,\\n min_samples_leaf=1, min_samples_split=3,\\n min_weight_fraction_leaf=0.0, n_estimators=100, n_jobs=4,\\n oob_score=False, random_state=None, verbose=0,\\n warm_start=False)\": [1.0, 1.0, 0.8666666666666667, 0.9333333333333333, 0.7333333333333333], \"RandomForestClassifier(bootstrap=True, class_weight=None, criterion='gini',\\n max_depth=None, max_features='auto', max_leaf_nodes=None,\\n min_impurity_decrease=0.0, min_impurity_split=None,\\n min_samples_leaf=1, min_samples_split=4,\\n min_weight_fraction_leaf=0.0, n_estimators=100, n_jobs=4,\\n oob_score=False, random_state=None, verbose=0,\\n warm_start=False)\": [1.0, 1.0, 0.8666666666666667, 0.9333333333333333, 0.7666666666666667], \"LogisticRegression(C=1.0, class_weight=None, dual=False, fit_intercept=True,\\n intercept_scaling=1, max_iter=100, multi_class='auto',\\n n_jobs=None, penalty='l2', random_state=None, solver='lbfgs',\\n tol=0.001, verbose=0, warm_start=False)\": [1.0, 1.0, 0.8666666666666667, 0.9333333333333333, 0.8333333333333334], \"LogisticRegression(C=1.0, class_weight=None, dual=False, fit_intercept=True,\\n intercept_scaling=1, max_iter=100, multi_class='auto',\\n n_jobs=None, penalty='l2', random_state=None, solver='lbfgs',\\n tol=0.01, verbose=0, warm_start=False)\": [1.0]}\n"
     ]
    },
    {
     "name": "stderr",
     "output_type": "stream",
     "text": [
      "C:\\Users\\danie\\Anaconda3\\lib\\site-packages\\sklearn\\linear_model\\logistic.py:758: ConvergenceWarning: lbfgs failed to converge. Increase the number of iterations.\n",
      "  \"of iterations.\", ConvergenceWarning)\n",
      "C:\\Users\\danie\\Anaconda3\\lib\\site-packages\\sklearn\\linear_model\\logistic.py:758: ConvergenceWarning: lbfgs failed to converge. Increase the number of iterations.\n",
      "  \"of iterations.\", ConvergenceWarning)\n",
      "C:\\Users\\danie\\Anaconda3\\lib\\site-packages\\sklearn\\linear_model\\logistic.py:758: ConvergenceWarning: lbfgs failed to converge. Increase the number of iterations.\n",
      "  \"of iterations.\", ConvergenceWarning)\n"
     ]
    },
    {
     "name": "stdout",
     "output_type": "stream",
     "text": [
      "{\"RandomForestClassifier(bootstrap=True, class_weight=None, criterion='gini',\\n max_depth=None, max_features='auto', max_leaf_nodes=None,\\n min_impurity_decrease=0.0, min_impurity_split=None,\\n min_samples_leaf=1, min_samples_split=2,\\n min_weight_fraction_leaf=0.0, n_estimators=100, n_jobs=4,\\n oob_score=False, random_state=None, verbose=0,\\n warm_start=False)\": [1.0, 1.0, 0.8666666666666667, 0.9333333333333333, 0.7333333333333333], \"RandomForestClassifier(bootstrap=True, class_weight=None, criterion='gini',\\n max_depth=None, max_features='auto', max_leaf_nodes=None,\\n min_impurity_decrease=0.0, min_impurity_split=None,\\n min_samples_leaf=1, min_samples_split=3,\\n min_weight_fraction_leaf=0.0, n_estimators=100, n_jobs=4,\\n oob_score=False, random_state=None, verbose=0,\\n warm_start=False)\": [1.0, 1.0, 0.8666666666666667, 0.9333333333333333, 0.7333333333333333], \"RandomForestClassifier(bootstrap=True, class_weight=None, criterion='gini',\\n max_depth=None, max_features='auto', max_leaf_nodes=None,\\n min_impurity_decrease=0.0, min_impurity_split=None,\\n min_samples_leaf=1, min_samples_split=4,\\n min_weight_fraction_leaf=0.0, n_estimators=100, n_jobs=4,\\n oob_score=False, random_state=None, verbose=0,\\n warm_start=False)\": [1.0, 1.0, 0.8666666666666667, 0.9333333333333333, 0.7666666666666667], \"LogisticRegression(C=1.0, class_weight=None, dual=False, fit_intercept=True,\\n intercept_scaling=1, max_iter=100, multi_class='auto',\\n n_jobs=None, penalty='l2', random_state=None, solver='lbfgs',\\n tol=0.001, verbose=0, warm_start=False)\": [1.0, 1.0, 0.8666666666666667, 0.9333333333333333, 0.8333333333333334], \"LogisticRegression(C=1.0, class_weight=None, dual=False, fit_intercept=True,\\n intercept_scaling=1, max_iter=100, multi_class='auto',\\n n_jobs=None, penalty='l2', random_state=None, solver='lbfgs',\\n tol=0.01, verbose=0, warm_start=False)\": [1.0, 1.0, 0.8666666666666667, 0.9333333333333333, 0.8333333333333334], \"LogisticRegression(C=1.0, class_weight=None, dual=False, fit_intercept=True,\\n intercept_scaling=1, max_iter=100, multi_class='auto',\\n n_jobs=None, penalty='l2', random_state=None, solver='lbfgs',\\n tol=0.1, verbose=0, warm_start=False)\": [1.0]}\n",
      "{\"RandomForestClassifier(bootstrap=True, class_weight=None, criterion='gini',\\n max_depth=None, max_features='auto', max_leaf_nodes=None,\\n min_impurity_decrease=0.0, min_impurity_split=None,\\n min_samples_leaf=1, min_samples_split=2,\\n min_weight_fraction_leaf=0.0, n_estimators=100, n_jobs=4,\\n oob_score=False, random_state=None, verbose=0,\\n warm_start=False)\": [1.0, 1.0, 0.8666666666666667, 0.9333333333333333, 0.7333333333333333], \"RandomForestClassifier(bootstrap=True, class_weight=None, criterion='gini',\\n max_depth=None, max_features='auto', max_leaf_nodes=None,\\n min_impurity_decrease=0.0, min_impurity_split=None,\\n min_samples_leaf=1, min_samples_split=3,\\n min_weight_fraction_leaf=0.0, n_estimators=100, n_jobs=4,\\n oob_score=False, random_state=None, verbose=0,\\n warm_start=False)\": [1.0, 1.0, 0.8666666666666667, 0.9333333333333333, 0.7333333333333333], \"RandomForestClassifier(bootstrap=True, class_weight=None, criterion='gini',\\n max_depth=None, max_features='auto', max_leaf_nodes=None,\\n min_impurity_decrease=0.0, min_impurity_split=None,\\n min_samples_leaf=1, min_samples_split=4,\\n min_weight_fraction_leaf=0.0, n_estimators=100, n_jobs=4,\\n oob_score=False, random_state=None, verbose=0,\\n warm_start=False)\": [1.0, 1.0, 0.8666666666666667, 0.9333333333333333, 0.7666666666666667], \"LogisticRegression(C=1.0, class_weight=None, dual=False, fit_intercept=True,\\n intercept_scaling=1, max_iter=100, multi_class='auto',\\n n_jobs=None, penalty='l2', random_state=None, solver='lbfgs',\\n tol=0.001, verbose=0, warm_start=False)\": [1.0, 1.0, 0.8666666666666667, 0.9333333333333333, 0.8333333333333334], \"LogisticRegression(C=1.0, class_weight=None, dual=False, fit_intercept=True,\\n intercept_scaling=1, max_iter=100, multi_class='auto',\\n n_jobs=None, penalty='l2', random_state=None, solver='lbfgs',\\n tol=0.01, verbose=0, warm_start=False)\": [1.0, 1.0, 0.8666666666666667, 0.9333333333333333, 0.8333333333333334], \"LogisticRegression(C=1.0, class_weight=None, dual=False, fit_intercept=True,\\n intercept_scaling=1, max_iter=100, multi_class='auto',\\n n_jobs=None, penalty='l2', random_state=None, solver='lbfgs',\\n tol=0.1, verbose=0, warm_start=False)\": [1.0, 1.0, 0.8666666666666667, 0.9333333333333333, 0.8333333333333334], \"SVC(C=1.1, cache_size=200, class_weight=None, coef0=0.0,\\n  decision_function_shape='ovr', degree=3, gamma='scale', kernel='rbf',\\n  max_iter=-1, probability=False, random_state=None, shrinking=True,\\n  tol=0.001, verbose=False)\": [1.0]}\n",
      "{\"RandomForestClassifier(bootstrap=True, class_weight=None, criterion='gini',\\n max_depth=None, max_features='auto', max_leaf_nodes=None,\\n min_impurity_decrease=0.0, min_impurity_split=None,\\n min_samples_leaf=1, min_samples_split=2,\\n min_weight_fraction_leaf=0.0, n_estimators=100, n_jobs=4,\\n oob_score=False, random_state=None, verbose=0,\\n warm_start=False)\": [1.0, 1.0, 0.8666666666666667, 0.9333333333333333, 0.7333333333333333], \"RandomForestClassifier(bootstrap=True, class_weight=None, criterion='gini',\\n max_depth=None, max_features='auto', max_leaf_nodes=None,\\n min_impurity_decrease=0.0, min_impurity_split=None,\\n min_samples_leaf=1, min_samples_split=3,\\n min_weight_fraction_leaf=0.0, n_estimators=100, n_jobs=4,\\n oob_score=False, random_state=None, verbose=0,\\n warm_start=False)\": [1.0, 1.0, 0.8666666666666667, 0.9333333333333333, 0.7333333333333333], \"RandomForestClassifier(bootstrap=True, class_weight=None, criterion='gini',\\n max_depth=None, max_features='auto', max_leaf_nodes=None,\\n min_impurity_decrease=0.0, min_impurity_split=None,\\n min_samples_leaf=1, min_samples_split=4,\\n min_weight_fraction_leaf=0.0, n_estimators=100, n_jobs=4,\\n oob_score=False, random_state=None, verbose=0,\\n warm_start=False)\": [1.0, 1.0, 0.8666666666666667, 0.9333333333333333, 0.7666666666666667], \"LogisticRegression(C=1.0, class_weight=None, dual=False, fit_intercept=True,\\n intercept_scaling=1, max_iter=100, multi_class='auto',\\n n_jobs=None, penalty='l2', random_state=None, solver='lbfgs',\\n tol=0.001, verbose=0, warm_start=False)\": [1.0, 1.0, 0.8666666666666667, 0.9333333333333333, 0.8333333333333334], \"LogisticRegression(C=1.0, class_weight=None, dual=False, fit_intercept=True,\\n intercept_scaling=1, max_iter=100, multi_class='auto',\\n n_jobs=None, penalty='l2', random_state=None, solver='lbfgs',\\n tol=0.01, verbose=0, warm_start=False)\": [1.0, 1.0, 0.8666666666666667, 0.9333333333333333, 0.8333333333333334], \"LogisticRegression(C=1.0, class_weight=None, dual=False, fit_intercept=True,\\n intercept_scaling=1, max_iter=100, multi_class='auto',\\n n_jobs=None, penalty='l2', random_state=None, solver='lbfgs',\\n tol=0.1, verbose=0, warm_start=False)\": [1.0, 1.0, 0.8666666666666667, 0.9333333333333333, 0.8333333333333334], \"SVC(C=1.1, cache_size=200, class_weight=None, coef0=0.0,\\n  decision_function_shape='ovr', degree=3, gamma='scale', kernel='rbf',\\n  max_iter=-1, probability=False, random_state=None, shrinking=True,\\n  tol=0.001, verbose=False)\": [1.0, 1.0, 0.8666666666666667, 0.9333333333333333, 0.8333333333333334], \"SVC(C=0.5, cache_size=200, class_weight=None, coef0=0.0,\\n  decision_function_shape='ovr', degree=3, gamma='scale', kernel='rbf',\\n  max_iter=-1, probability=False, random_state=None, shrinking=True,\\n  tol=0.001, verbose=False)\": [1.0]}\n"
     ]
    },
    {
     "data": {
      "text/plain": [
       "<Figure size 2000x1000 with 1 Axes>"
      ]
     },
     "metadata": {},
     "output_type": "display_data"
    },
    {
     "data": {
      "text/plain": [
       "<Figure size 2000x1000 with 1 Axes>"
      ]
     },
     "metadata": {},
     "output_type": "display_data"
    },
    {
     "data": {
      "text/plain": [
       "<Figure size 2000x1000 with 1 Axes>"
      ]
     },
     "metadata": {},
     "output_type": "display_data"
    },
    {
     "data": {
      "text/plain": [
       "<Figure size 2000x1000 with 1 Axes>"
      ]
     },
     "metadata": {},
     "output_type": "display_data"
    },
    {
     "data": {
      "text/plain": [
       "<Figure size 2000x1000 with 1 Axes>"
      ]
     },
     "metadata": {},
     "output_type": "display_data"
    },
    {
     "data": {
      "text/plain": [
       "<Figure size 2000x1000 with 1 Axes>"
      ]
     },
     "metadata": {},
     "output_type": "display_data"
    },
    {
     "data": {
      "text/plain": [
       "<Figure size 2000x1000 with 1 Axes>"
      ]
     },
     "metadata": {},
     "output_type": "display_data"
    },
    {
     "data": {
      "text/plain": [
       "<Figure size 2000x1000 with 1 Axes>"
      ]
     },
     "metadata": {},
     "output_type": "display_data"
    }
   ],
   "source": [
    "# copied and adapted from Christopher Havenstein office hours presentations\n",
    "\n",
    "# from sklearn.metrics import precision_score\n",
    "# from sklearn.metrics import recall_score\n",
    "\n",
    "\n",
    "import numpy as np\n",
    "from itertools import product\n",
    "from sklearn.metrics import accuracy_score\n",
    "from sklearn.ensemble import RandomForestClassifier\n",
    "from sklearn.linear_model import LogisticRegression\n",
    "from sklearn.model_selection import KFold\n",
    "from sklearn import datasets\n",
    "from IPython.display import Image\n",
    "import matplotlib.pyplot as plt\n",
    "from sklearn.metrics import accuracy_score\n",
    "from sklearn.svm import SVC\n",
    "\n",
    "# x = np.array([[1,2],[3,4],[4,5],[4,5],[4,5],[4,5],[4,5],[4,5],[4,5],[4,5],[4,5],[4,5],[4,5],[4,5],[4,5],[4,5]])\n",
    "# y = np.random.choice([0,1], size=(x.shape[0],), p=[1./3, 2./3])\n",
    "iris = datasets.load_iris()\n",
    "x = iris.data\n",
    "y = iris.target\n",
    "n_folds = 5\n",
    "dataInputVariable = (x,y,n_folds)\n",
    "\n",
    "classifiersList = [RandomForestClassifier, LogisticRegression,SVC]\n",
    "classifierParametersDictionary = {'RandomForestClassifier': {\"min_samples_split\": [2,3,4],\"n_estimators\":[100],\"n_jobs\":[4]},\n",
    "                                  'LogisticRegression': {\"tol\": [0.001,0.01,0.1],\"solver\":['lbfgs'],\"multi_class\":['auto']},\n",
    "                                 'SVC': {\"C\": [1.1, 0.5],\"gamma\":['scale']}}\n",
    "\n",
    "def run(classifierInputVariable, dataInputVariable, parameterInputVariable={}):\n",
    "    x, y, n_folds = dataInputVariable\n",
    "    kf = KFold(n_splits=n_folds)\n",
    "    ret = {}\n",
    "    for a, (train_index, test_index) in enumerate(kf.split(x, y)):\n",
    "        aClassifier = classifierInputVariable(**parameterInputVariable)\n",
    "        aClassifier.fit(x[train_index], y[train_index])\n",
    "        pred = aClassifier.predict(x[test_index])\n",
    "        ret[a]= {'Classifier Function Used': aClassifier,\n",
    "                 'train_index': train_index,\n",
    "                 'test_index': test_index,\n",
    "                 'accuracy': accuracy_score(y[test_index], pred)}\n",
    "    return ret\n",
    "\n",
    "# results={}\n",
    "clfsAccuracyDict = {}\n",
    "\n",
    "for classifier in classifiersList:\n",
    "    classifierString = str(classifier)\n",
    "    for outerKey, outerValue in classifierParametersDictionary.items():\n",
    "        if outerKey in classifierString:\n",
    "            innerKey,innerValue = zip(*outerValue.items())\n",
    "            for values in product(*innerValue):\n",
    "                parameterInputVariable = dict(zip(innerKey, values))\n",
    "                results = run(classifier, dataInputVariable, parameterInputVariable)\n",
    "                for key in results:\n",
    "                    k1 = results[key]['Classifier Function Used']\n",
    "                    v1 = results[key]['accuracy']\n",
    "                    k1Test = str(k1)\n",
    "                    k1Test = k1Test.replace('            ',' ')\n",
    "                    k1Test = k1Test.replace('          ',' ')\n",
    "                    if k1Test in clfsAccuracyDict:\n",
    "                        clfsAccuracyDict[k1Test].append(v1)\n",
    "                    else:\n",
    "                        clfsAccuracyDict[k1Test] = [v1] #create a new key (k1Test) in clfsAccuracyDict with a new value, (v1)\n",
    "                        print(clfsAccuracyDict)   \n",
    "                        \n",
    "n = max(len(v1) for k1, v1 in clfsAccuracyDict.items())\n",
    "\n",
    "# for naming the plots\n",
    "filename_prefix = 'clf_Histograms_'\n",
    "\n",
    "# initialize the plot_num counter for incrementing in the loop below\n",
    "plot_num = 1 \n",
    "\n",
    "# Adjust matplotlib subplots for easy terminal window viewing\n",
    "left  = 0.125  # the left side of the subplots of the figure\n",
    "right = 0.9    # the right side of the subplots of the figure\n",
    "bottom = 0.1   # the bottom of the subplots of the figure\n",
    "top = 0.6      # the top of the subplots of the figure\n",
    "wspace = 0.2   # the amount of width reserved for space between subplots,\n",
    "               # expressed as a fraction of the average axis width\n",
    "hspace = 0.2   # the amount of height reserved for space between subplots,\n",
    "               # expressed as a fraction of the average axis height\n",
    "\n",
    "#create the histograms\n",
    "for k1, v1 in clfsAccuracyDict.items():\n",
    "    # for each key in our clfsAccuracyDict, create a new histogram with a given key's values \n",
    "    fig = plt.figure(figsize =(20,10)) # This dictates the size of our histograms\n",
    "    ax  = fig.add_subplot(1, 1, 1) # As the ax subplot numbers increase here, the plot gets smaller\n",
    "    plt.hist(v1, facecolor='green', alpha=0.75) # create the histogram with the values\n",
    "    ax.set_title(k1, fontsize=30) # increase title fontsize for readability\n",
    "    ax.set_xlabel('Classifer Accuracy (By K-Fold)', fontsize=25) # increase x-axis label fontsize for readability\n",
    "    ax.set_ylabel('Frequency', fontsize=25) # increase y-axis label fontsize for readability\n",
    "    ax.xaxis.set_ticks(np.arange(0, 1.1, 0.1)) # The accuracy can only be from 0 to 1 (e.g. 0 or 100%)\n",
    "    ax.yaxis.set_ticks(np.arange(0, n+1, 1)) # n represents the number of k-folds\n",
    "    ax.xaxis.set_tick_params(labelsize=20) # increase x-axis tick fontsize for readability\n",
    "    ax.yaxis.set_tick_params(labelsize=20) # increase y-axis tick fontsize for readability\n",
    "    #ax.grid(True) # you can turn this on for a grid, but I think it looks messy here.\n",
    "\n",
    "    # pass in subplot adjustments from above.\n",
    "    \n",
    "    plt.subplots_adjust(left=left, right=right, bottom=bottom, top=top, wspace=wspace, hspace=hspace)\n",
    "    plot_num_str = str(plot_num) #convert plot number to string\n",
    "    filename = filename_prefix + plot_num_str # concatenate the filename prefix and the plot_num_str\n",
    "    plt.savefig(filename, bbox_inches = 'tight') # save the plot to the user's working directory\n",
    "    plot_num = plot_num+1 # increment the plot_num counter by 1\n",
    "    \n",
    "plt.show()"
   ]
  },
  {
   "cell_type": "markdown",
   "metadata": {},
   "source": [
    "__Parameter Function__"
   ]
  },
  {
   "cell_type": "markdown",
   "metadata": {},
   "source": [
    "__Parse the dictionary of parameters__"
   ]
  },
  {
   "cell_type": "markdown",
   "metadata": {},
   "source": [
    "*If dictionary has different number of parameters for different algorithms, put in error text so that the dictionary has same number of key values*  \n",
    "\n",
    "*For this homework a boxplot may be ideal*  "
   ]
  },
  {
   "cell_type": "markdown",
   "metadata": {},
   "source": [
    "__Create a function to run the classifiers with thier parameters__"
   ]
  },
  {
   "cell_type": "markdown",
   "metadata": {},
   "source": [
    "Due before live class 4\n",
    "5. Please set up your code to be run and save the results to the directory that its executed from\n",
    "6. Investigate grid search function"
   ]
  }
 ],
 "metadata": {
  "kernelspec": {
   "display_name": "Python 3",
   "language": "python",
   "name": "python3"
  },
  "language_info": {
   "codemirror_mode": {
    "name": "ipython",
    "version": 3
   },
   "file_extension": ".py",
   "mimetype": "text/x-python",
   "name": "python",
   "nbconvert_exporter": "python",
   "pygments_lexer": "ipython3",
   "version": "3.7.1"
  }
 },
 "nbformat": 4,
 "nbformat_minor": 2
}
