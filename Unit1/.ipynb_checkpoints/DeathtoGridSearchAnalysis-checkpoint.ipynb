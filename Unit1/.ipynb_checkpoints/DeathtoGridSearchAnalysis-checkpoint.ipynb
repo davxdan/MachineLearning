{
 "cells": [
  {
   "cell_type": "markdown",
   "metadata": {},
   "source": [
    "__Hierarchical clustering__ groups data over a variety of scales by creating a cluster tree or dendrogram. The tree is not a single set of clusters but rather a multilevel hierarchy, where clusters at one level are joined as clusters at the next level. This allows you to decide the level or scale of clustering that is most appropriate for your application."
   ]
  },
  {
   "cell_type": "markdown",
   "metadata": {},
   "source": [
    "__K-means clustering__ is a partitioning method. The data is partitioned into k mutually exclusive clusters and returns the index of the cluster to which it has assigned each observation. Unlike hierarchical clustering, k-means clustering operates on actual observations (rather than the larger set of dissimilarity measures) and creates a single level of clusters. The distinctions mean that k-means clustering is often more suitable than hierarchical clustering for large amounts of data. k-means treats each observation in your data as an object having a location in space. It finds a partition in which objects within each cluster are as close to each other as possible and as far from objects in other clusters as possible"
   ]
  },
  {
   "cell_type": "markdown",
   "metadata": {},
   "source": [
    "__Gaussian mixture models__ assign each observation to a cluster by maximizing the posterior probability that the data point belongs to its assigned cluster."
   ]
  },
  {
   "cell_type": "markdown",
   "metadata": {},
   "source": [
    "In machine learning, __lazy learning__ is a learning method in which generalization beyond the training data is delayed until a query is made to the system, as opposed to in eager learning, where the system tries to generalize the training data before receiving queries.\n",
    "\n",
    "The main advantage gained in employing a lazy learning method, such as case-based reasoning, is that the target function will be approximated locally, __such as in the k-nearest neighbor__ algorithm. Because the target function is approximated locally for each query to the system, lazy learning systems can simultaneously solve multiple problems and deal successfully with changes in the problem domain.\n",
    "\n",
    "The disadvantages with lazy learning include the large space requirement to store the entire training dataset. Particularly noisy training data increases the case base unnecessarily, because no abstraction is made during the training phase. Another disadvantage is that lazy learning methods are usually slower to evaluate, though this is coupled with a faster training phase.\n",
    "\n",
    "__Lazy classifiers are most useful for large datasets with few attributes__."
   ]
  },
  {
   "cell_type": "markdown",
   "metadata": {},
   "source": [
    "__Fuzzy c-means (FCM)__ is a data-clustering technique wherein each data point belongs to a cluster to some degree that is specified by a membership grade. FCM allows one piece of data to belong to two or more clusters."
   ]
  },
  {
   "cell_type": "markdown",
   "metadata": {},
   "source": [
    "__Self Organizing Maps__ Dimensional reduction when we have non-normal distributions. At each stage of representation, or processing, each piece of incoming information is kept in its proper context/neighborhood."
   ]
  },
  {
   "cell_type": "markdown",
   "metadata": {},
   "source": [
    "Topology is a mathematical discipline that studies shape. __Topological data analysis (TDA)__ refers to the adaptation of this discipline to analyzing highly complex data. It draws on the philosophy that all data have an underlying shape and that shape has meaning.\n",
    "\n",
    "The analysis creates a summary or compressed representation of all of the data points to help rapidly uncover critical patterns and relationships in data. By identifying the geometric relationships that exist between data points, TDA offers an extremely simple way of interrogating data to understand the underlying properties that characterize the segments and subsegments that lie within data."
   ]
  },
  {
   "cell_type": "markdown",
   "metadata": {},
   "source": [
    "From Wikipedia, the free encyclopedia  \n",
    "\n",
    "In machine learning, __hyperparameter__ optimization or tuning is the problem of choosing a set of optimal hyperparameters for a learning algorithm.\n",
    "\n",
    "The same kind of machine learning model can require different constraints, weights or learning rates to generalize different data patterns. These measures are called hyperparameters, and have to be tuned so that the model can optimally solve the machine learning problem. Hyperparameter optimization finds a tuple of hyperparameters that yields an optimal model which minimizes a predefined loss function on given independent data.[1] The objective function takes a tuple of hyperparameters and returns the associated loss.[1] Cross-validation is often used to estimate this generalization performance.[2]"
   ]
  },
  {
   "cell_type": "markdown",
   "metadata": {},
   "source": [
    "__Import Packages__"
   ]
  },
  {
   "cell_type": "code",
   "execution_count": 1,
   "metadata": {},
   "outputs": [],
   "source": [
    "import numpy as numpy\n",
    "from itertools import product\n",
    "from sklearn.metrics import accuracy_score # other metrics?\n",
    "from sklearn.ensemble import RandomForestClassifier\n",
    "from sklearn.linear_model import LogisticRegression\n",
    "from sklearn.model_selection import KFold\n",
    "from sklearn import datasets\n",
    "from IPython.display import Image\n",
    "import matplotlib.pyplot as plot"
   ]
  },
  {
   "cell_type": "markdown",
   "metadata": {},
   "source": [
    "__Create Data__"
   ]
  },
  {
   "cell_type": "code",
   "execution_count": 2,
   "metadata": {
    "scrolled": true
   },
   "outputs": [],
   "source": [
    "# x = numpy.array([[1,2],[3,4],[4,5],[4,5],[4,5],[4,5],[4,5],[4,5]])\n",
    "# y = numpy.random.choice([0,1],size=(x.shape[0])) #creates an array of 1's in the same as rows in M\n",
    "iris = datasets.load_iris()\n",
    "x = iris.data\n",
    "y = iris.target\n",
    "n_folds = 5\n",
    "data = (x, y, n_folds) #creates a tuple; a tuple is same as list but immutable (Cant be changed)"
   ]
  },
  {
   "cell_type": "markdown",
   "metadata": {},
   "source": [
    "__Due before live class 2__\n",
    "1. Write a function to take a list or dictionary of clfs and hypers ie use logistic regression, each with 3 different sets of hyper parrameters for each"
   ]
  },
  {
   "cell_type": "code",
   "execution_count": 3,
   "metadata": {
    "scrolled": false
   },
   "outputs": [
    {
     "name": "stdout",
     "output_type": "stream",
     "text": [
      "{0: ({'Classifier': RandomForestClassifier(bootstrap=True, class_weight=None, criterion='gini',\n",
      "            max_depth=None, max_features='auto', max_leaf_nodes=None,\n",
      "            min_impurity_decrease=0.0, min_impurity_split=None,\n",
      "            min_samples_leaf=1, min_samples_split=2,\n",
      "            min_weight_fraction_leaf=0.0, n_estimators=10, n_jobs=None,\n",
      "            oob_score=False, random_state=None, verbose=0,\n",
      "            warm_start=False), 'accuracy': 1.0},)}\n",
      "{0: ({'Classifier': LogisticRegression(C=1.0, class_weight=None, dual=False, fit_intercept=True,\n",
      "          intercept_scaling=1, max_iter=100, multi_class='warn',\n",
      "          n_jobs=None, penalty='l2', random_state=None, solver='warn',\n",
      "          tol=0.0001, verbose=0, warm_start=False), 'accuracy': 1.0},)}\n"
     ]
    },
    {
     "name": "stderr",
     "output_type": "stream",
     "text": [
      "C:\\ProgramData\\Anaconda3\\lib\\site-packages\\sklearn\\ensemble\\forest.py:246: FutureWarning: The default value of n_estimators will change from 10 in version 0.20 to 100 in 0.22.\n",
      "  \"10 in version 0.20 to 100 in 0.22.\", FutureWarning)\n",
      "C:\\ProgramData\\Anaconda3\\lib\\site-packages\\sklearn\\linear_model\\logistic.py:433: FutureWarning: Default solver will be changed to 'lbfgs' in 0.22. Specify a solver to silence this warning.\n",
      "  FutureWarning)\n",
      "C:\\ProgramData\\Anaconda3\\lib\\site-packages\\sklearn\\linear_model\\logistic.py:460: FutureWarning: Default multi_class will be changed to 'auto' in 0.22. Specify the multi_class option to silence this warning.\n",
      "  \"this warning.\", FutureWarning)\n"
     ]
    }
   ],
   "source": [
    "def run(a_Classifier, data, Classifier_hyper={}):\n",
    "    x, y, n_folds = data  # unpack data containter\n",
    "    kf = KFold(n_splits=n_folds) # Establish the cross validation\n",
    "    ret = {} # classic explicaiton of results as dictionary\n",
    "    for ids, (train_index, test_index) in enumerate(kf.split(x, y)):\n",
    "#         print(\"k fold = \", ids)\n",
    "#         print(\"            train indexes = \", train_index)\n",
    "#         print(\"            test indexes = \", test_index)\n",
    "        Classifier = a_Classifier(**Classifier_hyper) # unpack paramters into clf is they exist\n",
    "        Classifier.fit(x[train_index], y[train_index])\n",
    "        pred = Classifier.predict(x[test_index])\n",
    "        ret[ids]= {'Classifier': Classifier,\n",
    "#                'train_index': train_index,\n",
    "#                'test_index': test_index,\n",
    "               'accuracy': accuracy_score(y[test_index], pred)},\n",
    "        return ret\n",
    "\n",
    "algorithmlist = [RandomForestClassifier,LogisticRegression]\n",
    "for algorithms in algorithmlist:\n",
    "    results = run(algorithms, data, Classifier_hyper={})\n",
    "    print(results)"
   ]
  },
  {
   "cell_type": "markdown",
   "metadata": {},
   "source": [
    "__Due before live class 3__\n",
    "2. expand to include larger number of classifiers and hyperparmater settings\n",
    "3. find some simple data\n",
    "4. generate matplotlib plots that will assist in identifying the optimal clf and parampters settings"
   ]
  },
  {
   "cell_type": "markdown",
   "metadata": {},
   "source": [
    "__Create Classifier Algorithm Lists and Dictionaries__  \n",
    "I need to revisit to make this take in data like below\n",
    "https://docs.python.org/3/library/itertools.html\n",
    "look at product()"
   ]
  },
  {
   "cell_type": "markdown",
   "metadata": {},
   "source": [
    "If dictionary has different number of parameters for different algorithms, put in error text so that the dictionary has same number of key values"
   ]
  },
  {
   "cell_type": "markdown",
   "metadata": {},
   "source": [
    "For this homework a boxplot may be ideal"
   ]
  },
  {
   "cell_type": "markdown",
   "metadata": {},
   "source": [
    "__Create a list of classifier algorithms and a dictionary of thier parameters__"
   ]
  },
  {
   "cell_type": "code",
   "execution_count": 4,
   "metadata": {},
   "outputs": [],
   "source": [
    "#copied and adapted from Christopher Havenstein office hours presentation\n",
    "listOfClassifiers = [RandomForestClassifier, LogisticRegression]\n",
    "classifierParametersDictionary = {'RandomForestClassifier':{\"min_samples_split\": [2,3,4]},\n",
    "                                  'LogisticRegression':{\"tol\":[0.001,0.01,0.1]}}"
   ]
  },
  {
   "cell_type": "markdown",
   "metadata": {},
   "source": [
    "__Parse the dictionary of parameters__"
   ]
  },
  {
   "cell_type": "code",
   "execution_count": 5,
   "metadata": {},
   "outputs": [
    {
     "name": "stdout",
     "output_type": "stream",
     "text": [
      "{'min_samples_split': 2}\n",
      "{'min_samples_split': 3}\n",
      "{'min_samples_split': 4}\n",
      "{'tol': 0.001}\n",
      "{'tol': 0.01}\n",
      "{'tol': 0.1}\n"
     ]
    }
   ],
   "source": [
    "for outerKeys, outerValues in classifierParametersDictionary.items():\n",
    "    innerKeys,innerValues = zip(*outerValues.items()) # explain zip (https://docs.python.org/3.3/library/functions.html#zip)\n",
    "    for values in product(*innerValues): #for the values in the inner dictionary, get their unique combinations from product()\n",
    "        hyperSet = dict(zip(innerKeys, values)) # create a dictionary from their values\n",
    "        print(hyperSet)\n",
    "#         print(outerKeys)\n",
    "#         print(outerValues)\n",
    "#         print(innerKeys)\n",
    "#         print(innerValues)\n",
    "# type(hyperSet)"
   ]
  },
  {
   "cell_type": "markdown",
   "metadata": {},
   "source": [
    "__Create a function to run the classifiers with thier parameters__"
   ]
  },
  {
   "cell_type": "code",
   "execution_count": 16,
   "metadata": {},
   "outputs": [
    {
     "name": "stdout",
     "output_type": "stream",
     "text": [
      "{0: {'clf': RandomForestClassifier(bootstrap=True, class_weight=None, criterion='gini',\n",
      "            max_depth=None, max_features='auto', max_leaf_nodes=None,\n",
      "            min_impurity_decrease=0.0, min_impurity_split=None,\n",
      "            min_samples_leaf=1, min_samples_split=2,\n",
      "            min_weight_fraction_leaf=0.0, n_estimators=10, n_jobs=None,\n",
      "            oob_score=False, random_state=None, verbose=0,\n",
      "            warm_start=False), 'train_index': array([ 4,  5,  6,  7,  8,  9, 10, 11, 12, 13, 14, 15]), 'test_index': array([0, 1, 2, 3]), 'accuracy': 1.0}}\n"
     ]
    },
    {
     "name": "stderr",
     "output_type": "stream",
     "text": [
      "C:\\ProgramData\\Anaconda3\\lib\\site-packages\\sklearn\\ensemble\\forest.py:246: FutureWarning: The default value of n_estimators will change from 10 in version 0.20 to 100 in 0.22.\n",
      "  \"10 in version 0.20 to 100 in 0.22.\", FutureWarning)\n"
     ]
    }
   ],
   "source": [
    "import numpy as np\n",
    "from sklearn.metrics import accuracy_score\n",
    "from sklearn.ensemble import RandomForestClassifier\n",
    "from sklearn.model_selection import KFold  #EDIT: I had to import KFold \n",
    "\n",
    "M = np.array([[1,2],[3,4],[4,5],[4,5],[4,5],[4,5],[4,5],[4,5],[4,5],[4,5],[4,5],[4,5],[4,5],[4,5],[4,5],[4,5]])\n",
    "L = np.ones(M.shape[0])\n",
    "n_folds = 5\n",
    "data = (M,L,n_folds)\n",
    "\n",
    "M, L, n_folds = data\n",
    "kf = KFold(n_splits=n_folds)\n",
    "\n",
    "def run(a_clf, data, clf_hyper={'n_jobs': 2}):\n",
    "    M, L, n_folds = data\n",
    "    kf = KFold(n_splits=n_folds)\n",
    "    ret = {}\n",
    "    \n",
    "    for ids, (train_index, test_index) in enumerate(kf.split(M, L)):\n",
    "        clf = a_clf(**clf_hyper)\n",
    "        clf.fit(M[train_index], L[train_index])\n",
    "        pred = clf.predict(M[test_index])\n",
    "        ret[ids]= {'clf': clf,\n",
    "                   'train_index': train_index,\n",
    "                   'test_index': test_index,\n",
    "                   'accuracy': accuracy_score(L[test_index], pred)}\n",
    "        return ret\n",
    "\n",
    "results = run(RandomForestClassifier, data, clf_hyper={})\n",
    "print(results)"
   ]
  },
  {
   "cell_type": "code",
   "execution_count": 7,
   "metadata": {},
   "outputs": [
    {
     "name": "stdout",
     "output_type": "stream",
     "text": [
      "(2, 1, 5)\n",
      "(2, 1, 6)\n",
      "(2, 2, 5)\n",
      "(2, 2, 6)\n",
      "(2, 3, 5)\n",
      "(2, 3, 6)\n",
      "(3, 1, 5)\n",
      "(3, 1, 6)\n",
      "(3, 2, 5)\n",
      "(3, 2, 6)\n",
      "(3, 3, 5)\n",
      "(3, 3, 6)\n",
      "(4, 1, 5)\n",
      "(4, 1, 6)\n",
      "(4, 2, 5)\n",
      "(4, 2, 6)\n",
      "(4, 3, 5)\n",
      "(4, 3, 6)\n",
      "{'min_samples_split': 2, 'n_jobs': 1}\n",
      "{'min_samples_split': 2, 'n_jobs': 2}\n",
      "{'min_samples_split': 2, 'n_jobs': 3}\n",
      "{'min_samples_split': 3, 'n_jobs': 1}\n",
      "{'min_samples_split': 3, 'n_jobs': 2}\n",
      "{'min_samples_split': 3, 'n_jobs': 3}\n",
      "{'min_samples_split': 4, 'n_jobs': 1}\n",
      "{'min_samples_split': 4, 'n_jobs': 2}\n",
      "{'min_samples_split': 4, 'n_jobs': 3}\n",
      "{'tol': 0.001}\n",
      "{'tol': 0.01}\n",
      "{'tol': 0.1}\n"
     ]
    }
   ],
   "source": [
    "\n",
    "#Itertools lists example\n",
    "\n",
    "min_samples_split = [2,3,4]\n",
    "n_jobs = [1,2,3]\n",
    "test = [5,6]\n",
    "\n",
    "#combos = list(product(min_samples_split, n_jobs))\n",
    "combos = list(product(min_samples_split, n_jobs, test))\n",
    "\n",
    "for vals in combos:\n",
    "    print(vals)  # print out the combinations of values\n",
    "    \n",
    "#Itertools Dictionary Example\n",
    "clfsList = [RandomForestClassifier, LogisticRegression] \n",
    "\n",
    "clfDict = {'RandomForestClassifier': {\"min_samples_split\": [2,3,4], \n",
    "                                      \"n_jobs\": [1,2,3]},\n",
    "                                      \n",
    "           'LogisticRegression': {\"tol\": [0.001,0.01,0.1]}}\n",
    "\n",
    "\n",
    "for k1, v1 in clfDict.items(): # go through the inner dictionary of hyper parameters\n",
    "        #Nothing to do here, we need to get into the inner nested dictionary.\n",
    "        k2,v2 = zip(*v1.items()) # explain zip (https://docs.python.org/3.3/library/functions.html#zip)\n",
    "        for values in product(*v2): #for the values in the inner dictionary, get their unique combinations from product()\n",
    "            hyperSet = dict(zip(k2, values)) # create a dictionary from their values\n",
    "            print(hyperSet) # print out the results in a dictionary that can be used to feed into the ** operator in run()"
   ]
  },
  {
   "cell_type": "markdown",
   "metadata": {},
   "source": [
    "Due before live class 4\n",
    "5. Please set up your code to be run and save the results to the directory that its executed from\n",
    "6. Investigate grid search function"
   ]
  }
 ],
 "metadata": {
  "kernelspec": {
   "display_name": "Python 3",
   "language": "python",
   "name": "python3"
  },
  "language_info": {
   "codemirror_mode": {
    "name": "ipython",
    "version": 3
   },
   "file_extension": ".py",
   "mimetype": "text/x-python",
   "name": "python",
   "nbconvert_exporter": "python",
   "pygments_lexer": "ipython3",
   "version": "3.6.7"
  }
 },
 "nbformat": 4,
 "nbformat_minor": 2
}
