{
 "cells": [
  {
   "cell_type": "code",
   "execution_count": 2,
   "metadata": {},
   "outputs": [],
   "source": [
    "import numpy as np\n",
    "from sklearn.metrics import accuracy_score # other metrics?\n",
    "from sklearn.ensemble import RandomForestClassifier\n",
    "from sklearn.model_selection import KFold"
   ]
  },
  {
   "cell_type": "markdown",
   "metadata": {},
   "source": [
    "Adapt this code below to run your analysis\n",
    "\n",
    "Due before live class 2\n",
    "1. Write a function to take a list or dictionary of clfs and hypers ie use logistic regression, each with 3 different sets of hyper parrameters for each\n",
    "\n",
    "Due before live class 3\n",
    "2. expand to include larger number of classifiers and hyperparmater settings\n",
    "3. find some simple data\n",
    "4. generate matplotlib plots that will assist in identifying the optimal clf and parampters settings\n",
    "\n",
    "Due before live class 4\n",
    "5. Please set up your code to be run and save the results to the directory that its executed from\n",
    "6. Investigate grid search function"
   ]
  },
  {
   "cell_type": "markdown",
   "metadata": {},
   "source": [
    "From Wikipedia, the free encyclopedia  \n",
    "\n",
    "In machine learning, __hyperparameter__ optimization or tuning is the problem of choosing a set of optimal hyperparameters for a learning algorithm.\n",
    "\n",
    "The same kind of machine learning model can require different constraints, weights or learning rates to generalize different data patterns. These measures are called hyperparameters, and have to be tuned so that the model can optimally solve the machine learning problem. Hyperparameter optimization finds a tuple of hyperparameters that yields an optimal model which minimizes a predefined loss function on given independent data.[1] The objective function takes a tuple of hyperparameters and returns the associated loss.[1] Cross-validation is often used to estimate this generalization performance.[2]"
   ]
  },
  {
   "cell_type": "code",
   "execution_count": 3,
   "metadata": {
    "scrolled": true
   },
   "outputs": [],
   "source": [
    "M = np.array([[1,2],[3,4],[4,5],[4,5],[4,5],[4,5],[4,5],[4,5]])\n",
    "L = np.ones(M.shape[0])\n",
    "n_folds = 5\n",
    "\n",
    "data = (M, L, n_folds)"
   ]
  },
  {
   "cell_type": "code",
   "execution_count": 16,
   "metadata": {},
   "outputs": [],
   "source": [
    "def run(a_clf, data, clf_hyper={}):\n",
    "  M, L, n_folds = data # unpack data containter\n",
    "  kf = KFold(n_splits=n_folds) # Establish the cross validation\n",
    "  ret = {} # classic explicaiton of results\n",
    "\n",
    "  for ids, (train_index, test_index) in enumerate(kf.split(M, L)):\n",
    "    clf = a_clf(**clf_hyper) # unpack paramters into clf is they exist\n",
    "\n",
    "    clf.fit(M[train_index], L[train_index])\n",
    "\n",
    "    pred = clf.predict(M[test_index])\n",
    "\n",
    "    ret[ids]= {'clf': clf,\n",
    "               'train_index': train_index,\n",
    "               'test_index': test_index,\n",
    "               'accuracy': accuracy_score(L[test_index], pred)}\n",
    "  return ret\n",
    "\n",
    "results = run(RandomForestClassifier, data, clf_hyper={})"
   ]
  }
 ],
 "metadata": {
  "kernelspec": {
   "display_name": "Python 3",
   "language": "python",
   "name": "python3"
  },
  "language_info": {
   "codemirror_mode": {
    "name": "ipython",
    "version": 3
   },
   "file_extension": ".py",
   "mimetype": "text/x-python",
   "name": "python",
   "nbconvert_exporter": "python",
   "pygments_lexer": "ipython3",
   "version": "3.6.5"
  }
 },
 "nbformat": 4,
 "nbformat_minor": 2
}
