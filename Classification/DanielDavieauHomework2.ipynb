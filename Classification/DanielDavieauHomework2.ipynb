{
 "cells": [
  {
   "cell_type": "markdown",
   "metadata": {},
   "source": [
    "__Machine Learning Homework 2__"
   ]
  },
  {
   "cell_type": "markdown",
   "metadata": {},
   "source": [
    "__Assignment__:  \n",
    "    A medical claim is denoted by a claim number ('Claim.Number'). Each claim consists of one or more medical lines denoted by a claim line number ('Claim.Line.Number').\n",
    "\n",
    "1. J-codes are procedure codes that start with the letter 'J'.\n",
    "\n",
    "     A. Find the number of claim lines that have J-codes.\n",
    "\n",
    "     B. How much was paid for J-codes to providers for 'in network' claims?\n",
    "\n",
    "     C. What are the top five J-codes based on the payment to providers?\n",
    "\n",
    "\n",
    "\n",
    "2. For the following exercises, determine the number of providers that were paid for at least one J-code. Use the J-code claims for these providers to complete the following exercises.\n",
    "\n",
    "    A. Create a scatter plot that displays the number of unpaid claims (lines where the �Provider.Payment.Amount� field is equal to zero) for each provider versus the number of paid claims.\n",
    "\n",
    "    B. What insights can you suggest from the graph?\n",
    "\n",
    "    C. Based on the graph, is the behavior of any of the providers concerning? Explain.\n",
    "\n",
    "\n",
    "\n",
    "3. Consider all claim lines with a J-code.\n",
    "\n",
    "     A. What percentage of J-code claim lines were unpaid?\n",
    "\n",
    "     B. Create a model to predict when a J-code is unpaid. Explain why you choose the modeling approach.\n",
    "\n",
    "     C. How accurate is your model at predicting unpaid claims?\n",
    "\n",
    "      D. What data attributes are predominately influencing the rate of non-payment?"
   ]
  },
  {
   "cell_type": "markdown",
   "metadata": {},
   "source": [
    "__Import Data__"
   ]
  }
 ],
 "metadata": {
  "kernelspec": {
   "display_name": "Python 3",
   "language": "python",
   "name": "python3"
  },
  "language_info": {
   "codemirror_mode": {
    "name": "ipython",
    "version": 3
   },
   "file_extension": ".py",
   "mimetype": "text/x-python",
   "name": "python",
   "nbconvert_exporter": "python",
   "pygments_lexer": "ipython3",
   "version": "3.7.1"
  }
 },
 "nbformat": 4,
 "nbformat_minor": 2
}
